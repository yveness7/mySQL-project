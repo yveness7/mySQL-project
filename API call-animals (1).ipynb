{
 "cells": [
  {
   "cell_type": "code",
   "execution_count": 1,
   "metadata": {},
   "outputs": [],
   "source": [
    "\n",
    "United_States=[\"California Condor\", \"Northern Spotted Owl\", \"Red Wolf\"]\n",
    "China=[\"Giant Panda\", \"Tiger\", \"Dolphin\"]\n",
    "India=[\"Bengal Tiger\", \"Indian Rhinoceros\", \"Asian Elephant\"]\n",
    "Brazil=[\"Tamarin\", \"Merganser\", \"Tamarin\"]\n",
    "Australia=[\"Wombat\", \"Leadbeater's Possum\", \"Swamp Tortoise\"]\n",
    "Indonesia=[\"Orangutan\", \"Sumatran Tiger\", \"Javan Hawk-Eagle\"]\n",
    "Kenya=[\"Black Rhinoceros\", \"African Wild Dog\", \"Grevy's Zebra\"]\n",
    "Madagascar=[\"Madagascar Pochard\", \"Aye-aye\", \"Ploughshare Tortoise\"]\n",
    "Russia=[\"Amur Leopard\", \"Siberian Tiger\", \"Saiga Antelope\"]\n",
    "South_Africa=[\"African Penguin\", \"Cape Mountain Zebra\", \"African Wild Dog\"]"
   ]
  },
  {
   "cell_type": "code",
   "execution_count": 3,
   "metadata": {},
   "outputs": [
    {
     "data": {
      "text/html": [
       "<img src=\"https://images.unsplash.com/photo-1527118732049-c88155f2107c?crop=entropy&cs=tinysrgb&fit=max&fm=jpg&ixid=M3w1MjMzMDh8MHwxfHNlYXJjaHwxfHxHaWFudCUyMFBhbmRhfGVufDB8fHx8MTY5OTAwOTIzN3ww&ixlib=rb-4.0.3&q=80&w=1080\" style=\"max-width:300px; max-height:300px; margin:10px;\" /><img src=\"https://images.unsplash.com/photo-1561731216-c3a4d99437d5?crop=entropy&cs=tinysrgb&fit=max&fm=jpg&ixid=M3w1MjMzMDh8MHwxfHNlYXJjaHwxfHxUaWdlcnxlbnwwfHx8fDE2OTkwMDkyMzh8MA&ixlib=rb-4.0.3&q=80&w=1080\" style=\"max-width:300px; max-height:300px; margin:10px;\" /><img src=\"https://images.unsplash.com/photo-1547382442-d17c21625a44?crop=entropy&cs=tinysrgb&fit=max&fm=jpg&ixid=M3w1MjMzMDh8MHwxfHNlYXJjaHwxfHxEb2xwaGlufGVufDB8fHx8MTY5OTAwOTIzOHww&ixlib=rb-4.0.3&q=80&w=1080\" style=\"max-width:300px; max-height:300px; margin:10px;\" />"
      ],
      "text/plain": [
       "<IPython.core.display.HTML object>"
      ]
     },
     "metadata": {},
     "output_type": "display_data"
    }
   ],
   "source": [
    "from IPython.display import display, HTML\n",
    "import requests\n",
    "\n",
    "def search_unsplash_images(api_key, animal_list, num_results=5):\n",
    "    base_url = \"https://api.unsplash.com/search/photos\"\n",
    "    \n",
    "    headers = {\n",
    "        \"Authorization\": f\"Client-ID {api_key}\"\n",
    "    }\n",
    "    \n",
    "    image_urls = []\n",
    "\n",
    "    for animal in animal_list:\n",
    "        params = {\n",
    "            \"query\": animal,\n",
    "            \"per_page\": num_results\n",
    "        }\n",
    "\n",
    "        try:\n",
    "            response = requests.get(base_url, headers=headers, params=params)\n",
    "            response.raise_for_status()  # Checking for erros\n",
    "\n",
    "            data = response.json()\n",
    "\n",
    "            if \"results\" in data:\n",
    "                animal_images = data[\"results\"]\n",
    "                for image in animal_images:\n",
    "                    image_urls.append(image['urls']['regular'])\n",
    "        except requests.exceptions.RequestException as e:\n",
    "            print(f\"Error: {e}\")\n",
    "\n",
    "    return image_urls\n",
    "\n",
    "def display_images(image_urls):  ##displaying results\n",
    "    image_tags = \"\"\n",
    "    for url in image_urls:\n",
    "        image_tags += f'<img src=\"{url}\" style=\"max-width:300px; max-height:300px; margin:10px;\" />'\n",
    "    \n",
    "    display(HTML(image_tags))\n",
    "\n",
    "\n",
    "if __name__ == \"__main__\": #as a main program\n",
    "    \n",
    "    api_key = \"EpI8Bj7vlY3g86t7ye_FAagSeiMuSLMQ6-apXGHa_2Q\"\n",
    "\n",
    "    # put the list of animals according to the list of countries above\n",
    "    animal_list = China\n",
    "\n",
    "    num_results = 1  # Number of results per animal\n",
    "\n",
    "    animal_image_urls = search_unsplash_images(api_key, animal_list, num_results)\n",
    "    \n",
    "    display_images(animal_image_urls)\n"
   ]
  },
  {
   "cell_type": "code",
   "execution_count": null,
   "metadata": {},
   "outputs": [],
   "source": []
  }
 ],
 "metadata": {
  "kernelspec": {
   "display_name": "Python 3 (ipykernel)",
   "language": "python",
   "name": "python3"
  },
  "language_info": {
   "codemirror_mode": {
    "name": "ipython",
    "version": 3
   },
   "file_extension": ".py",
   "mimetype": "text/x-python",
   "name": "python",
   "nbconvert_exporter": "python",
   "pygments_lexer": "ipython3",
   "version": "3.11.4"
  }
 },
 "nbformat": 4,
 "nbformat_minor": 2
}
